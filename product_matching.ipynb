{
 "cells": [
  {
   "cell_type": "code",
   "execution_count": 1,
   "metadata": {},
   "outputs": [],
   "source": [
    "import pandas as pd"
   ]
  },
  {
   "cell_type": "code",
   "execution_count": 2,
   "metadata": {},
   "outputs": [],
   "source": [
    "df_all_products = pd.read_excel(r'C:\\Users\\huynt\\Desktop\\all_products.xlsx')\n",
    "df_hot_products = pd.read_excel(r'C:\\Users\\huynt\\Desktop\\hot_products.xlsx')"
   ]
  },
  {
   "cell_type": "code",
   "execution_count": 3,
   "metadata": {},
   "outputs": [
    {
     "data": {
      "text/html": [
       "<div>\n",
       "<style scoped>\n",
       "    .dataframe tbody tr th:only-of-type {\n",
       "        vertical-align: middle;\n",
       "    }\n",
       "\n",
       "    .dataframe tbody tr th {\n",
       "        vertical-align: top;\n",
       "    }\n",
       "\n",
       "    .dataframe thead th {\n",
       "        text-align: right;\n",
       "    }\n",
       "</style>\n",
       "<table border=\"1\" class=\"dataframe\">\n",
       "  <thead>\n",
       "    <tr style=\"text-align: right;\">\n",
       "      <th></th>\n",
       "      <th>full_name</th>\n",
       "      <th>dong_san_pham_1</th>\n",
       "      <th>dong_san_pham_2</th>\n",
       "      <th>model_1</th>\n",
       "      <th>model_2</th>\n",
       "      <th>brand_1</th>\n",
       "      <th>brand_2</th>\n",
       "      <th>dac_diem_1</th>\n",
       "      <th>dac_diem_2</th>\n",
       "      <th>dac_diem_3</th>\n",
       "      <th>dac_diem_4</th>\n",
       "      <th>dung_tich_1</th>\n",
       "      <th>dung_tich_2</th>\n",
       "    </tr>\n",
       "  </thead>\n",
       "  <tbody>\n",
       "    <tr>\n",
       "      <th>0</th>\n",
       "      <td>A</td>\n",
       "      <td>sữa rửa mặt</td>\n",
       "      <td>srm</td>\n",
       "      <td>facial</td>\n",
       "      <td>w cleansing</td>\n",
       "      <td>hatomugi</td>\n",
       "      <td>khongbiet</td>\n",
       "      <td>dưỡng ẩm</td>\n",
       "      <td>sáng da</td>\n",
       "      <td>phục hồi da</td>\n",
       "      <td>moisturizing</td>\n",
       "      <td>170g</td>\n",
       "      <td>170 g</td>\n",
       "    </tr>\n",
       "    <tr>\n",
       "      <th>1</th>\n",
       "      <td>B</td>\n",
       "      <td>tinh chất</td>\n",
       "      <td>serum</td>\n",
       "      <td>2% + B5</td>\n",
       "      <td>2% +B5</td>\n",
       "      <td>the ordinary</td>\n",
       "      <td>ordinary</td>\n",
       "      <td>cấp nước</td>\n",
       "      <td>phục hồi da</td>\n",
       "      <td>khongbiet</td>\n",
       "      <td>khongbiet</td>\n",
       "      <td>30ml</td>\n",
       "      <td>30 ml</td>\n",
       "    </tr>\n",
       "    <tr>\n",
       "      <th>2</th>\n",
       "      <td>A</td>\n",
       "      <td>sữa rửa mặt</td>\n",
       "      <td>srm</td>\n",
       "      <td>facial</td>\n",
       "      <td>w cleansing</td>\n",
       "      <td>hatomugi</td>\n",
       "      <td>khongbiet</td>\n",
       "      <td>dưỡng ẩm</td>\n",
       "      <td>sáng da</td>\n",
       "      <td>phục hồi da</td>\n",
       "      <td>moisturizing</td>\n",
       "      <td>170g</td>\n",
       "      <td>170 g</td>\n",
       "    </tr>\n",
       "    <tr>\n",
       "      <th>3</th>\n",
       "      <td>B</td>\n",
       "      <td>tinh chất</td>\n",
       "      <td>serum</td>\n",
       "      <td>2% + B5</td>\n",
       "      <td>2% +B5</td>\n",
       "      <td>the ordinary</td>\n",
       "      <td>ordinary</td>\n",
       "      <td>cấp nước</td>\n",
       "      <td>phục hồi da</td>\n",
       "      <td>khongbiet</td>\n",
       "      <td>khongbiet</td>\n",
       "      <td>30ml</td>\n",
       "      <td>30 ml</td>\n",
       "    </tr>\n",
       "    <tr>\n",
       "      <th>4</th>\n",
       "      <td>A</td>\n",
       "      <td>sữa rửa mặt</td>\n",
       "      <td>srm</td>\n",
       "      <td>facial</td>\n",
       "      <td>w cleansing</td>\n",
       "      <td>hatomugi</td>\n",
       "      <td>khongbiet</td>\n",
       "      <td>dưỡng ẩm</td>\n",
       "      <td>sáng da</td>\n",
       "      <td>phục hồi da</td>\n",
       "      <td>moisturizing</td>\n",
       "      <td>170g</td>\n",
       "      <td>170 g</td>\n",
       "    </tr>\n",
       "  </tbody>\n",
       "</table>\n",
       "</div>"
      ],
      "text/plain": [
       "  full_name dong_san_pham_1 dong_san_pham_2  model_1      model_2  \\\n",
       "0         A     sữa rửa mặt             srm   facial  w cleansing   \n",
       "1         B       tinh chất           serum  2% + B5       2% +B5   \n",
       "2         A     sữa rửa mặt             srm   facial  w cleansing   \n",
       "3         B       tinh chất           serum  2% + B5       2% +B5   \n",
       "4         A     sữa rửa mặt             srm   facial  w cleansing   \n",
       "\n",
       "        brand_1    brand_2 dac_diem_1   dac_diem_2   dac_diem_3    dac_diem_4  \\\n",
       "0      hatomugi  khongbiet   dưỡng ẩm      sáng da  phục hồi da  moisturizing   \n",
       "1  the ordinary   ordinary   cấp nước  phục hồi da    khongbiet     khongbiet   \n",
       "2      hatomugi  khongbiet   dưỡng ẩm      sáng da  phục hồi da  moisturizing   \n",
       "3  the ordinary   ordinary   cấp nước  phục hồi da    khongbiet     khongbiet   \n",
       "4      hatomugi  khongbiet   dưỡng ẩm      sáng da  phục hồi da  moisturizing   \n",
       "\n",
       "  dung_tich_1 dung_tich_2  \n",
       "0        170g       170 g  \n",
       "1        30ml       30 ml  \n",
       "2        170g       170 g  \n",
       "3        30ml       30 ml  \n",
       "4        170g       170 g  "
      ]
     },
     "execution_count": 3,
     "metadata": {},
     "output_type": "execute_result"
    }
   ],
   "source": [
    "df_hot_products.head()\n"
   ]
  },
  {
   "cell_type": "code",
   "execution_count": 4,
   "metadata": {},
   "outputs": [],
   "source": [
    "def my_func(row, product_name):\n",
    "    point = 0\n",
    "    list_col = df_hot_products.columns\n",
    "\n",
    "    for col in list_col:\n",
    "        if row[col] in product_name:\n",
    "            point += 1   \n",
    "    return point\n",
    "\n",
    "def result(df_hot_products, product_name):    \n",
    "    \n",
    "    df_hot_products['res'] = df_hot_products.apply(my_func, args = (product_name, ), axis=1)\n",
    "    standardized_product = df_hot_products['full_name'].loc[df_hot_products['res'] >= 4].to_list() \n",
    "    df_hot_products = df_hot_products.drop('res', axis=1)\n",
    "\n",
    "    return df_hot_products, standardized_product\n"
   ]
  },
  {
   "cell_type": "code",
   "execution_count": 5,
   "metadata": {},
   "outputs": [],
   "source": [
    "products = df_all_products['name'].to_list()"
   ]
  },
  {
   "cell_type": "code",
   "execution_count": null,
   "metadata": {},
   "outputs": [],
   "source": [
    "list_product_matching = []\n",
    "dict_matching_products = {}\n",
    "\n",
    "for i in range(len(products)):\n",
    "    print(i)\n",
    "    df_hot_products, standardized_product = result(df_hot_products, products[i])\n",
    "    if len(standardized_product) > 1:\n",
    "        standardized_product = standardized_product[0]\n",
    "\n",
    "    list_product_matching += standardized_product\n",
    "    dict_matching_products[products[i]] = standardized_product\n",
    "\n",
    "print(dict_matching_products)"
   ]
  },
  {
   "cell_type": "code",
   "execution_count": 7,
   "metadata": {},
   "outputs": [
    {
     "name": "stdout",
     "output_type": "stream",
     "text": [
      "0\n"
     ]
    }
   ],
   "source": [
    "a = []\n",
    "print(len(a))"
   ]
  }
 ],
 "metadata": {
  "kernelspec": {
   "display_name": "Python 3.8.8 ('base')",
   "language": "python",
   "name": "python3"
  },
  "language_info": {
   "codemirror_mode": {
    "name": "ipython",
    "version": 3
   },
   "file_extension": ".py",
   "mimetype": "text/x-python",
   "name": "python",
   "nbconvert_exporter": "python",
   "pygments_lexer": "ipython3",
   "version": "3.8.8"
  },
  "orig_nbformat": 4,
  "vscode": {
   "interpreter": {
    "hash": "9af678f4f2438d1107fb9b7e9dd5d70bf3f22f1637b29fce50d59b9111579c55"
   }
  }
 },
 "nbformat": 4,
 "nbformat_minor": 2
}
